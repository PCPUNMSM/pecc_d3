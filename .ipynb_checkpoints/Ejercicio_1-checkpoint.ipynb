{
 "cells": [
  {
   "cell_type": "markdown",
   "id": "711401a0",
   "metadata": {},
   "source": [
    "# Ejercicio 1:"
   ]
  },
  {
   "cell_type": "markdown",
   "id": "832f168c",
   "metadata": {},
   "source": [
    "En este ejercicio nos vamos a familiarizar con las ideas básicas de QEC usando como ejemplo un código de 3 qubits como el que se ha visto en la clase de teoría. Para ello, usaremos Qiskit. Empezamos importando los paquetes que vamos a necesitar:"
   ]
  },
  {
   "cell_type": "code",
   "execution_count": 2,
   "id": "925f1f66",
   "metadata": {},
   "outputs": [],
   "source": [
    "from qiskit import *\n",
    "from qiskit.visualization import plot_histogram\n",
    "import matplotlib.pyplot as plt\n",
    "import numpy as np"
   ]
  },
  {
   "cell_type": "markdown",
   "id": "71d2748e",
   "metadata": {},
   "source": [
    "Se nos piden las siguientes tareas:\n",
    "\n",
    "1. Construir el circuito para codificar el estado de un qubit físico usando el código de 3 qubits.\n",
    "2. Construir los circuitos para medir los estabilizadores.\n",
    "3. Introduce un error $X$ en uno de los qubits del código y mide los estabilizadores. Usando estas medidas, ¿puedes deducir en que qubit ocurrió el error?.\n",
    "4. Si el error que ocurre es de tipo $Z$ en vez de $X$, ¿es posible detectarlo usando este código de 3 qubits?\n",
    "5. Realiza simulaciones introduciendo errores de tipo $X$ en cada qubit con probabilidad $p$ (la misma para cada qubit). Repitelo para diferentes valores de $p$ para obtener el threshold de este código para este modelo de errores. Compara estos resultados con los obtenidos analiticamente."
   ]
  },
  {
   "cell_type": "markdown",
   "id": "1e322639",
   "metadata": {},
   "source": [
    "### 1. Construir el circuito para codificar el estado de un qubit físico arbitrario usando el código de 3 qubits."
   ]
  },
  {
   "cell_type": "markdown",
   "id": "67f01e4a",
   "metadata": {},
   "source": [
    "En la clase de teoría hemos visto que el circuito para codificar un estado de un qubit arbitrario $|\\psi\\rangle$ usando el código de 3 qubits. En este caso vamos a codificar el estado $|\\psi\\rangle=\\frac{1}{\\sqrt{2}}(|0\\rangle -|1\\rangle)$. Este viene dado por:"
   ]
  },
  {
   "cell_type": "code",
   "execution_count": 15,
   "id": "a3db8f04",
   "metadata": {},
   "outputs": [
    {
     "data": {
      "image/png": "[encoded data removed]",
      "text/plain": [
       "<Figure size 327.397x204.68 with 1 Axes>"
      ]
     },
     "execution_count": 15,
     "metadata": {},
     "output_type": "execute_result"
    }
   ],
   "source": [
    "# Definimos el circuito\n",
    "qc = QuantumCircuit(3)\n",
    "\n",
    "# El qubit físico que queremos codificar\n",
    "# puede estar en un estado arbitrario\n",
    "qc.initialize([1/np.sqrt(2), -1/np.sqrt(2)], 0)\n",
    "\n",
    "# Añadimos las puertas para codificar el estado\n",
    "qc.cx([0],[1,2])\n",
    "\n",
    "# Dibujamos el circuito (con estilo 'mpl')\n",
    "qc.draw('mpl')"
   ]
  },
  {
   "cell_type": "markdown",
   "id": "18007b50",
   "metadata": {},
   "source": [
    "Este circuito crea el estado $|\\psi\\rangle=\\frac{1}{\\sqrt{2}}(|000\\rangle -|111\\rangle)$"
   ]
  },
  {
   "cell_type": "markdown",
   "id": "89d6f9e5",
   "metadata": {},
   "source": [
    "### 2. Construir los circuitos para medir los estabilizadores"
   ]
  },
  {
   "cell_type": "markdown",
   "id": "3ab74d24",
   "metadata": {},
   "source": [
    "Los estabilizadores del código de 3 qubits consisten en medidas de la paridad entre parejas de qubits. En este caso vamos a seleccionar medidas $Z_1Z_2$ y $Z_2Z_3$. La estructura de estos dos estabilizadores es la misma, diferenciandose solamente en los qubits sobre los que actúan. Debido a esto, cada uno va a consistir en un bloque de 3 qubits (2 del código y 1 anzilla) como el siguiente:"
   ]
  },
  {
   "cell_type": "code",
   "execution_count": 16,
   "id": "e02307d6",
   "metadata": {},
   "outputs": [
    {
     "data": {
      "image/png": "[encoded data removed]",
      "text/plain": [
       "<Figure size 206.852x204.68 with 1 Axes>"
      ]
     },
     "execution_count": 16,
     "metadata": {},
     "output_type": "execute_result"
    }
   ],
   "source": [
    "# Definimos dos registros.\n",
    "# Registro con 2 qubits del código de 3 qubits\n",
    "cq_stabilizer = QuantumRegister(2, 'q')\n",
    "\n",
    "# Registro con 1 qubit anzilla que guardará la\n",
    "# información sobre la paridad de los 2 qubits anteriores\n",
    "aq_stabilizer = QuantumRegister(1, 'a')\n",
    "\n",
    "# Combinamos estos registros en un circuito\n",
    "qc_stabilizer = QuantumCircuit(cq_stabilizer, aq_stabilizer)\n",
    "\n",
    "# La medida del estabilizador consiste en dos puertas CNOT\n",
    "# cuyo control es uno de los qubits del código y su objetivo\n",
    "# es el qubit anzilla\n",
    "qc_stabilizer.cx(cq_stabilizer[0], aq_stabilizer[0])\n",
    "qc_stabilizer.cx(cq_stabilizer[1], aq_stabilizer[0])\n",
    "\n",
    "# Dibujamos el circuito\n",
    "qc_stabilizer.draw(output='mpl')"
   ]
  },
  {
   "cell_type": "markdown",
   "id": "f713ea98",
   "metadata": {},
   "source": [
    "Con esta estructura para los estabilizadores, podemos pasar a definir el circuito completo para el código de 3 qubits. Este consistira en 3 qubits del código, 2 qubits anzilla para medir los estabilizadores, y 2 bits clásicos para guardar el resultado de cada estabilizador. A este circuito le podemos añadir estabilizadores como el anterior para realizar medidas de la paridad:"
   ]
  },
  {
   "cell_type": "code",
   "execution_count": 18,
   "id": "50fdf8fe",
   "metadata": {},
   "outputs": [
    {
     "data": {
      "image/png": "[encoded data removed]",
      "text/plain": [
       "<Figure size 869.197x385.28 with 1 Axes>"
      ]
     },
     "execution_count": 18,
     "metadata": {},
     "output_type": "execute_result"
    }
   ],
   "source": [
    "# Registro del código de 3 qubits\n",
    "cq = QuantumRegister(3, 'q')\n",
    "# Registro de 2 qubits anzilla\n",
    "aq = QuantumRegister(2, 'a')\n",
    "# Registro de 2 bits clásicos\n",
    "mb = ClassicalRegister(2, 'm')\n",
    "# Combinamos estos registros en un circuito\n",
    "qc = QuantumCircuit(cq, aq, mb)\n",
    "\n",
    "\n",
    "# Codificamos un estado inicial no arbitrario\n",
    "qc.initialize([1/np.sqrt(2), -1/np.sqrt(2)], 0)\n",
    "\n",
    "# Añadimos las puertas para codificar el estado\n",
    "qc.cx([0],[1,2])\n",
    "\n",
    "# Introducimos barreras para delimitar de forma clara las\n",
    "# partes del circuito relacionadas con cada estabilizador\n",
    "qc.barrier()\n",
    "# El primer estabilizador mide la paridad del primer y\n",
    "# segundo qubit y utiliza el primer qubit anzilla\n",
    "qc.cx(cq[0], aq[0])\n",
    "qc.cx(cq[1], aq[0])\n",
    "\n",
    "qc.barrier()\n",
    "\n",
    "# El segundo estabilizador mide la paridad del segundo y\n",
    "# tercer qubit y utiliza el segundo qubit anzilla\n",
    "qc.cx(cq[1], aq[1])\n",
    "qc.cx(cq[2], aq[1])\n",
    "qc.barrier()\n",
    "\n",
    "# Medimos los qubits anzilla\n",
    "qc.measure(aq[0], mb[0])\n",
    "qc.measure(aq[1], mb[1])\n",
    "\n",
    "qc.draw(output='mpl')"
   ]
  },
  {
   "cell_type": "markdown",
   "id": "4e667204",
   "metadata": {},
   "source": [
    "Con esto ya tenemos un circuito que mide los estabilizadores del código de 3 qubits. Podemos simular este circuito para medir los estabilizadores:"
   ]
  },
  {
   "cell_type": "code",
   "execution_count": 19,
   "id": "425628a5",
   "metadata": {},
   "outputs": [
    {
     "name": "stdout",
     "output_type": "stream",
     "text": [
      "Results: {'00': 1024}\n"
     ]
    }
   ],
   "source": [
    "# Importamos el simulador \"Aer\" de Qiskit\n",
    "aer_sim = Aer.get_backend('aer_simulator')\n",
    "\n",
    "# Realizamos simulaciones del circuito y obtenemos medidas\n",
    "qobj = assemble(qc)\n",
    "counts = aer_sim.run(qobj).result().get_counts()\n",
    "print('Results:', counts)"
   ]
  },
  {
   "cell_type": "markdown",
   "id": "76c95b2d",
   "metadata": {},
   "source": [
    "Como era de esperar, al evaluar las paridades del estado codificado (superposición de $|000\\rangle$ y $|111\\rangle$), medimos cada uno de los estabilizadores en $0$."
   ]
  },
  {
   "cell_type": "markdown",
   "id": "877bd11e",
   "metadata": {},
   "source": [
    "### 3. Introduce un error $X$ en uno de los qubits del código y mide los estabilizadores."
   ]
  },
  {
   "cell_type": "markdown",
   "id": "ded9c95d",
   "metadata": {},
   "source": [
    "Introduzcamos un error X en el primer qubit y veamos como se comporta el circuito anterior:"
   ]
  },
  {
   "cell_type": "code",
   "execution_count": 29,
   "id": "7fa7fa12",
   "metadata": {},
   "outputs": [
    {
     "data": {
      "image/png": "[encoded data removed]",
      "text/plain": [
       "<Figure size 929.397x385.28 with 1 Axes>"
      ]
     },
     "execution_count": 29,
     "metadata": {},
     "output_type": "execute_result"
    }
   ],
   "source": [
    "# Registro del código de 3 qubits\n",
    "cq = QuantumRegister(3, 'q')\n",
    "# Registro de 2 qubits anzilla\n",
    "aq = QuantumRegister(2, 'a')\n",
    "# Registro de 2 bits clásicos\n",
    "mb = ClassicalRegister(2, 'm')\n",
    "# Combinamos estos registros en un circuito\n",
    "qc = QuantumCircuit(cq, aq, mb)\n",
    "\n",
    "\n",
    "# Codificamos un estado inicial no arbitrario\n",
    "qc.initialize([1/np.sqrt(2), -1/np.sqrt(2)], 0)\n",
    "\n",
    "# Añadimos las puertas para codificar el estado\n",
    "qc.cx([0],[1,2])\n",
    "\n",
    "# Introducimos un error X en el primer qubit\n",
    "qc.x(0)\n",
    "\n",
    "# Introducimos barreras para delimitar de forma clara las\n",
    "# partes del circuito relacionadas con cada estabilizador\n",
    "qc.barrier()\n",
    "# El primer estabilizador mide la paridad del primer y\n",
    "# segundo qubit y utiliza el primer qubit anzilla\n",
    "qc.cx(cq[0], aq[0])\n",
    "qc.cx(cq[1], aq[0])\n",
    "\n",
    "qc.barrier()\n",
    "\n",
    "# El segundo estabilizador mide la paridad del segundo y\n",
    "# tercer qubit y utiliza el segundo qubit anzilla\n",
    "qc.cx(cq[1], aq[1])\n",
    "qc.cx(cq[2], aq[1])\n",
    "qc.barrier()\n",
    "\n",
    "# Medimos los qubits anzilla\n",
    "qc.measure(aq[0], mb[0])\n",
    "qc.measure(aq[1], mb[1])\n",
    "\n",
    "qc.draw(output='mpl')"
   ]
  },
  {
   "cell_type": "markdown",
   "id": "049230cf",
   "metadata": {},
   "source": [
    "Realizando las simulaciones obtenemos:"
   ]
  },
  {
   "cell_type": "code",
   "execution_count": 30,
   "id": "405e5117",
   "metadata": {},
   "outputs": [
    {
     "name": "stdout",
     "output_type": "stream",
     "text": [
      "Results: {'01': 1024}\n"
     ]
    }
   ],
   "source": [
    "aer_sim = Aer.get_backend('aer_simulator')\n",
    "qobj = assemble(qc)\n",
    "counts = aer_sim.run(qobj).result().get_counts()\n",
    "print('Results:', counts)"
   ]
  },
  {
   "cell_type": "markdown",
   "id": "c4904edf",
   "metadata": {},
   "source": [
    "### Usando estas medidas, ¿puedes deducir en que qubit ocurrió el error?."
   ]
  },
  {
   "cell_type": "markdown",
   "id": "7e7aa01b",
   "metadata": {},
   "source": [
    "Teniendo en cuenta que Qiskit ordena los bits de derecha a izquierda, todas las medidas del primer qubit anzilla han sido $1$ mientras que las del segundo han sido $0$. Considerando la tabla de sindromes del código de 3 qubits, el código asume que el error ha ocurrido en el primer qubit, que en efecto es el qubit que ha sufrido el error."
   ]
  },
  {
   "cell_type": "markdown",
   "id": "29ca31b2",
   "metadata": {},
   "source": [
    "### 4. Si el error que ocurre es de tipo $Z$ en vez de $X$, ¿es posible detectarlo usando este código de 3 qubits?"
   ]
  },
  {
   "cell_type": "markdown",
   "id": "f5840ce5",
   "metadata": {},
   "source": [
    "Podemos utilizar el código de Qiskit anterior para ver que ocurre en este caso. Simplemente tenemos que cambiar el error $X$ por uno $Z$:"
   ]
  },
  {
   "cell_type": "code",
   "execution_count": 34,
   "id": "73140c21",
   "metadata": {},
   "outputs": [
    {
     "name": "stdout",
     "output_type": "stream",
     "text": [
      "Results: {'00': 1024}\n"
     ]
    },
    {
     "data": {
      "image/png": "[encoded data removed]",
      "text/plain": [
       "<Figure size 929.397x385.28 with 1 Axes>"
      ]
     },
     "execution_count": 34,
     "metadata": {},
     "output_type": "execute_result"
    }
   ],
   "source": [
    "# Registro del código de 3 qubits\n",
    "cq = QuantumRegister(3, 'q')\n",
    "# Registro de 2 qubits anzilla\n",
    "aq = QuantumRegister(2, 'a')\n",
    "# Registro de 2 bits clásicos\n",
    "mb = ClassicalRegister(2, 'm')\n",
    "# Combinamos estos registros en un circuito\n",
    "qc = QuantumCircuit(cq, aq, mb)\n",
    "\n",
    "\n",
    "# Codificamos un estado inicial no arbitrario\n",
    "qc.initialize([1/np.sqrt(2), -1/np.sqrt(2)], 0)\n",
    "\n",
    "# Añadimos las puertas para codificar el estado\n",
    "qc.cx([0],[1,2])\n",
    "\n",
    "# Introducimos un error X en el primer qubit\n",
    "qc.z(0)\n",
    "\n",
    "# Introducimos barreras para delimitar de forma clara las\n",
    "# partes del circuito relacionadas con cada estabilizador\n",
    "qc.barrier()\n",
    "# El primer estabilizador mide la paridad del primer y\n",
    "# segundo qubit y utiliza el primer qubit anzilla\n",
    "qc.cx(cq[0], aq[0])\n",
    "qc.cx(cq[1], aq[0])\n",
    "\n",
    "qc.barrier()\n",
    "\n",
    "# El segundo estabilizador mide la paridad del segundo y\n",
    "# tercer qubit y utiliza el segundo qubit anzilla\n",
    "qc.cx(cq[1], aq[1])\n",
    "qc.cx(cq[2], aq[1])\n",
    "qc.barrier()\n",
    "\n",
    "# Medimos los qubits anzilla\n",
    "qc.measure(aq[0], mb[0])\n",
    "qc.measure(aq[1], mb[1])\n",
    "\n",
    "aer_sim = Aer.get_backend('aer_simulator')\n",
    "qobj = assemble(qc)\n",
    "counts = aer_sim.run(qobj).result().get_counts()\n",
    "print('Results:', counts)\n",
    "\n",
    "qc.draw(output='mpl')"
   ]
  },
  {
   "cell_type": "markdown",
   "id": "48f29c29",
   "metadata": {},
   "source": [
    "Como podemos ver, este código no es capaz de detectar errores de tipo $Z$. Esto motiva el desarrollo de códigos de corrección de errores cuánticos más complejos como los que hemos visto en la clase de teoría y que desarrollaremos en detalle en el Ejercicio 2."
   ]
  },
  {
   "cell_type": "markdown",
   "id": "a8cab29c",
   "metadata": {},
   "source": [
    "### 5. Realiza simulaciones introduciendo errores de tipo $X$ en cada qubit con probabilidad $p$ (la misma para cada qubit)"
   ]
  },
  {
   "cell_type": "markdown",
   "id": "72acfbf9",
   "metadata": {},
   "source": [
    "Podemos configurar nuestro código de Qiskit para añadir un error de tipo $X$ a cada qubit con probabilidad $p$. En el siguiente ejemplo, utilizamos $p=0.3$:"
   ]
  },
  {
   "cell_type": "code",
   "execution_count": 150,
   "id": "22154c56",
   "metadata": {},
   "outputs": [
    {
     "name": "stdout",
     "output_type": "stream",
     "text": [
      "Error original: [0, 1, 0]\n",
      "Corrección: [0, 1, 0]\n",
      "Error corregido!\n"
     ]
    }
   ],
   "source": [
    "# Registro del código de 3 qubits\n",
    "cq = QuantumRegister(3, 'q')\n",
    "# Registro de 2 qubits anzilla\n",
    "aq = QuantumRegister(2, 'a')\n",
    "# Registro de 2 bits clásicos\n",
    "mb = ClassicalRegister(2, 'm')\n",
    "# Combinamos estos registros en un circuito\n",
    "qc = QuantumCircuit(cq, aq, mb)\n",
    "\n",
    "# Introducimos un error X con probabilidad p=0.3 en cada qubit\n",
    "p = 0.3\n",
    "errors = [np.random.binomial(1, p) for i in range(3)]\n",
    "for j, e in enumerate(errors):\n",
    "    if e == 1:\n",
    "        qc.x(j)\n",
    "\n",
    "# Introducimos barreras para delimitar de forma clara las\n",
    "# partes del circuito relacionadas con cada estabilizador\n",
    "qc.barrier()\n",
    "# El primer estabilizador mide la paridad del primer y\n",
    "# segundo qubit y utiliza el primer qubit anzilla\n",
    "qc.cx(cq[0], aq[0])\n",
    "qc.cx(cq[1], aq[0])\n",
    "\n",
    "qc.barrier()\n",
    "\n",
    "# El segundo estabilizador mide la paridad del segundo y\n",
    "# tercer qubit y utiliza el segundo qubit anzilla\n",
    "qc.cx(cq[1], aq[1])\n",
    "qc.cx(cq[2], aq[1])\n",
    "qc.barrier()\n",
    "\n",
    "# Medimos los qubits anzilla\n",
    "qc.measure(aq[0], mb[0])\n",
    "qc.measure(aq[1], mb[1])\n",
    "\n",
    "qc.draw(output='mpl')\n",
    "\n",
    "# Simulamos el circuito\n",
    "qobj = assemble(qc)\n",
    "counts = aer_sim.run(qobj).result().get_counts()\n",
    "# Obtenemos un sindrome y asignamos la corrección correspondiente\n",
    "syndrome = list(counts.keys())[0]\n",
    "if syndrome == '00': correction = [0,0,0]\n",
    "if syndrome == '01': correction = [1,0,0]\n",
    "if syndrome == '10': correction = [0,0,1]\n",
    "if syndrome == '11': correction = [0,1,0]\n",
    "print('Error original: {}'.format(errors))\n",
    "print('Corrección: {}'.format(correction))\n",
    "# Comprobamos si la corrección introducida corrige el error inicial\n",
    "if correction == errors:\n",
    "    print('Error corregido!')"
   ]
  },
  {
   "cell_type": "markdown",
   "id": "4414bd74",
   "metadata": {},
   "source": [
    "Este proceso se puede repetir muchas veces para obtener una estadística. Repitiendo este proceso para diferentes valores de $p$ se puede obtener el threshold de este código. Primero obtenemos las probabilidades de error lógico dado una probabilidad $p$ de error físico para diferentes valores de $p$:"
   ]
  },
  {
   "cell_type": "code",
   "execution_count": 133,
   "id": "0b3d81e0",
   "metadata": {},
   "outputs": [],
   "source": [
    "iterations = 1000\n",
    "points = 10\n",
    "p_values = np.linspace(0.01, 0.6, points)\n",
    "p_correct = np.empty(points)\n",
    "\n",
    "for i, p in enumerate(p_values):\n",
    "    corrected_count = 0\n",
    "    for j in range(iterations):\n",
    "        # Registro del código de 3 qubits\n",
    "        cq = QuantumRegister(3, 'q')\n",
    "        # Registro de 2 qubits anzilla\n",
    "        aq = QuantumRegister(2, 'a')\n",
    "        # Registro de 2 bits clásicos\n",
    "        mb = ClassicalRegister(2, 'm')\n",
    "        # Combinamos estos registros en un circuito\n",
    "        qc = QuantumCircuit(cq, aq, mb)\n",
    "\n",
    "        # Introducimos un error X en el primer qubit\n",
    "        errors = [np.random.binomial(1, p) for i in range(3)]\n",
    "        for j, e in enumerate(errors):\n",
    "            if e == 1:\n",
    "                qc.x(j)\n",
    "\n",
    "        # Introducimos barreras para delimitar de forma clara las\n",
    "        # partes del circuito relacionadas con cada estabilizador\n",
    "        qc.barrier()\n",
    "        # El primer estabilizador mide la paridad del primer y\n",
    "        # segundo qubit y utiliza el primer qubit anzilla\n",
    "        qc.cx(cq[0], aq[0])\n",
    "        qc.cx(cq[1], aq[0])\n",
    "\n",
    "        qc.barrier()\n",
    "\n",
    "        # El segundo estabilizador mide la paridad del segundo y\n",
    "        # tercer qubit y utiliza el segundo qubit anzilla\n",
    "        qc.cx(cq[1], aq[1])\n",
    "        qc.cx(cq[2], aq[1])\n",
    "        qc.barrier()\n",
    "\n",
    "        # Medimos los qubits anzilla\n",
    "        qc.measure(aq[0], mb[0])\n",
    "        qc.measure(aq[1], mb[1])\n",
    "\n",
    "        qc.draw(output='mpl')\n",
    "\n",
    "        qobj = assemble(qc)\n",
    "        counts = aer_sim.run(qobj).result().get_counts()\n",
    "        syndrome = list(counts.keys())[0]\n",
    "        if syndrome == '00': correction = [0,0,0]\n",
    "        if syndrome == '01': correction = [1,0,0]\n",
    "        if syndrome == '10': correction = [0,0,1]\n",
    "        if syndrome == '11': correction = [0,1,0]\n",
    "\n",
    "        if correction == errors:\n",
    "            corrected_count += 1\n",
    "    p_correct[i] = corrected_count / iterations"
   ]
  },
  {
   "cell_type": "markdown",
   "id": "5b420264",
   "metadata": {},
   "source": [
    "Usando estos valores, podemos obtener el threshold de este código para este modelo de errores con solo errores de tipo $X$. Este comportamiento de la probabilidad de error lógico como función de la probabilidad de error físico se puede calcular también de forma analítica teniendo en cuenta que este código siempre funciona cuando no hay errores o hay un error, y siempre falla si hay 2 o 3 errores. Teniendo esto en cuenta, la probabilidad de error lógico es:\n",
    "\\begin{equation}\n",
    "p_L = 1- \\sum_{n=0}^1\\binom{3}{n} p^n(1-p)^{3-n}= 3p^2-2p^3\n",
    "\\end{equation}"
   ]
  },
  {
   "cell_type": "code",
   "execution_count": 151,
   "id": "6c1dd24f",
   "metadata": {},
   "outputs": [
    {
     "data": {
      "image/png": "[encoded data removed]",
      "text/plain": [
       "<Figure size 432x288 with 1 Axes>"
      ]
     },
     "metadata": {
      "needs_background": "light"
     },
     "output_type": "display_data"
    }
   ],
   "source": [
    "def pL(p):\n",
    "    return 3*p**2 - 2*p**3\n",
    "\n",
    "plt.plot(p_values, 1 - p_correct, 'o')\n",
    "plt.plot(p_values, p_values)\n",
    "plt.plot(p_values, pL(p_values))\n",
    "plt.xlim([0,0.55])\n",
    "plt.ylabel('p error lógico')\n",
    "plt.xlabel('p error físico')\n",
    "plt.grid()\n",
    "plt.show()"
   ]
  }
 ],
 "metadata": {
  "kernelspec": {
   "display_name": "Python 3 (ipykernel)",
   "language": "python",
   "name": "python3"
  },
  "language_info": {
   "codemirror_mode": {
    "name": "ipython",
    "version": 3
   },
   "file_extension": ".py",
   "mimetype": "text/x-python",
   "name": "python",
   "nbconvert_exporter": "python",
   "pygments_lexer": "ipython3",
   "version": "3.9.12"
  }
 },
 "nbformat": 4,
 "nbformat_minor": 5
}
