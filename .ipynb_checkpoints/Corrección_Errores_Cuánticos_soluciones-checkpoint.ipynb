{
 "cells": [
  {
   "cell_type": "markdown",
   "metadata": {
    "_uuid": "1752ce061957fd1ce93d2e4db9494b7b29da7935",
    "id": "4rI4z7kImaoJ"
   },
   "source": [
    "<center>\n",
    "<img src=\"https://raw.githubusercontent.com/BeLight17/Pics/main/Header%20Jupyter%20Notebook/4.png\">\n",
    "    \n",
    "##  Primera Escuela de Computación Cuántica\n",
    "\n",
    "Autores: Fernando Martínez García\\\n",
    "Institución: Instituto de Física Fundamental, CSIC\\\n",
    "Correo: f.martinez@iff.csic.es\n",
    "    "
   ]
  },
  {
   "cell_type": "markdown",
   "metadata": {
    "_uuid": "9b690f2c8129ad9445c544337375b93246c26668",
    "id": "xk_jepAzmaoX"
   },
   "source": [
    "# <center> Introducción a la corrección de errores cuánticos\n",
    "### <center> Laboratorio Computacional\n",
    "\n",
    "## Outline\n",
    "1. Código de 3 qubits\n",
    "2. Código de Steane\n"
   ]
  },
  {
   "cell_type": "markdown",
   "metadata": {
    "id": "dzGfiu0fmaoa"
   },
   "source": [
    "## 1. Código de 3 qubits"
   ]
  },
  {
   "cell_type": "markdown",
   "metadata": {
    "id": "EpnSwN8Pmaob"
   },
   "source": [
    "En este ejercicio nos vamos a familiarizar con las ideas básicas de QEC usando como ejemplo un código de 3 qubits como el que se ha visto en la clase de teoría. Para ello, usaremos Qiskit. Empezamos importando los paquetes que vamos a necesitar:"
   ]
  },
  {
   "cell_type": "code",
   "execution_count": 1,
   "metadata": {},
   "outputs": [],
   "source": [
    "from qiskit import *\n",
    "import matplotlib.pyplot as plt\n",
    "import numpy as np"
   ]
  },
  {
   "cell_type": "markdown",
   "metadata": {},
   "source": [
    "Se nos piden las siguientes tareas:\n",
    "\n",
    "1. Construir el circuito para codificar el estado de un qubit físico usando el código de 3 qubits.\n",
    "2. Construir los circuitos para medir los estabilizadores.\n",
    "3. Introduce un error $X$ en uno de los qubits del código y mide los estabilizadores. Usando estas medidas, ¿puedes deducir en que qubit ocurrió el error?.\n",
    "4. Si el error que ocurre es de tipo $Z$ en vez de $X$, ¿es posible detectarlo usando este código de 3 qubits?\n",
    "5. Realiza simulaciones introduciendo errores de tipo $X$ en cada qubit con probabilidad $p$ (la misma para cada qubit). Repitelo para diferentes valores de $p$ para obtener el threshold de este código para este modelo de errores. Compara estos resultados con los obtenidos analiticamente."
   ]
  },
  {
   "cell_type": "markdown",
   "metadata": {},
   "source": [
    "### Construir el circuito para codificar el estado de un qubit físico arbitrario usando el código de 3 qubits."
   ]
  },
  {
   "cell_type": "code",
   "execution_count": null,
   "metadata": {},
   "outputs": [],
   "source": []
  },
  {
   "cell_type": "markdown",
   "metadata": {},
   "source": [
    "### Construir los circuitos para medir los estabilizadores"
   ]
  },
  {
   "cell_type": "code",
   "execution_count": null,
   "metadata": {},
   "outputs": [],
   "source": []
  },
  {
   "cell_type": "markdown",
   "metadata": {},
   "source": [
    "### Introduce un error $X$ en uno de los qubits del código y mide los estabilizadores."
   ]
  },
  {
   "cell_type": "code",
   "execution_count": null,
   "metadata": {},
   "outputs": [],
   "source": []
  },
  {
   "cell_type": "markdown",
   "metadata": {},
   "source": [
    "### Usando estas medidas, ¿puedes deducir en que qubit ocurrió el error?."
   ]
  },
  {
   "cell_type": "code",
   "execution_count": null,
   "metadata": {},
   "outputs": [],
   "source": []
  },
  {
   "cell_type": "markdown",
   "metadata": {},
   "source": [
    "### Si el error que ocurre es de tipo $Z$ en vez de $X$, ¿es posible detectarlo usando este código de 3 qubits?"
   ]
  },
  {
   "cell_type": "code",
   "execution_count": null,
   "metadata": {},
   "outputs": [],
   "source": []
  },
  {
   "cell_type": "markdown",
   "metadata": {},
   "source": [
    "### Realiza simulaciones introduciendo errores de tipo $X$ en cada qubit con probabilidad $p$ (la misma para cada qubit)"
   ]
  },
  {
   "cell_type": "code",
   "execution_count": null,
   "metadata": {},
   "outputs": [],
   "source": []
  },
  {
   "cell_type": "markdown",
   "metadata": {
    "id": "OZXcZIdtMtQV"
   },
   "source": [
    "## 1. Código de Steane"
   ]
  },
  {
   "cell_type": "markdown",
   "metadata": {},
   "source": [
    "En este ejercicio nos vamos a familiarizar con las ideas básicas del código de Steane como se ha visto en la clase de teoría:"
   ]
  },
  {
   "cell_type": "markdown",
   "metadata": {},
   "source": [
    "<center>\n",
    "<img src=\"Steane_code.png\">"
   ]
  },
  {
   "cell_type": "markdown",
   "metadata": {},
   "source": [
    "Para ello, usaremos Qiskit. Empezamos importando los paquetes que vamos a necesitar:"
   ]
  },
  {
   "cell_type": "code",
   "execution_count": 4,
   "metadata": {},
   "outputs": [],
   "source": [
    "from qiskit import *"
   ]
  },
  {
   "cell_type": "markdown",
   "metadata": {},
   "source": [
    "Para este ejercicio, aportamos el código para inicializar el estado $|0_L\\rangle$ del código de Steane:"
   ]
  },
  {
   "cell_type": "code",
   "execution_count": 5,
   "metadata": {},
   "outputs": [],
   "source": [
    "def Steane_init():\n",
    "    # Definimos dos registros.\n",
    "    # Registro con 7 qubits del código de Steane\n",
    "    cq = QuantumRegister(7, 'q')\n",
    "\n",
    "    # Registro con 6 qubit anzilla que guardará la\n",
    "    # información sobre las medidas de los estabilizadores\n",
    "    aq = QuantumRegister(6, 'a')\n",
    "\n",
    "    # Registro clásico donde guardaremos los resultados\n",
    "    # de medir los estabilizadores\n",
    "    mb = ClassicalRegister(6, 'm')\n",
    "\n",
    "    # Combinamos estos registros en un circuito\n",
    "    qc = QuantumCircuit(cq, aq, mb)\n",
    "\n",
    "    # Generamos el estado 0 lógico usando el circuito\n",
    "    # dado en la hoja de problemas\n",
    "    qc.h([0,1,5])\n",
    "    qc.cx([0,5,1,0,5,1,0,1,5],[4,3,6,2,6,3,6,4,2])\n",
    "    qc.barrier()\n",
    "    return qc, cq, aq, mb"
   ]
  },
  {
   "cell_type": "markdown",
   "metadata": {},
   "source": [
    "Podemos dibujar este circuito:"
   ]
  },
  {
   "cell_type": "code",
   "execution_count": 6,
   "metadata": {},
   "outputs": [
    {
     "data": {
      "image/png": "[encoded data removed]",
      "text/plain": [
       "<Figure size 314.199x433.44 with 1 Axes>"
      ]
     },
     "execution_count": 6,
     "metadata": {},
     "output_type": "execute_result"
    }
   ],
   "source": [
    "qc, cq, aq, mb = Steane_init()\n",
    "qc.draw('mpl', scale=0.5)"
   ]
  },
  {
   "cell_type": "markdown",
   "metadata": {},
   "source": [
    "Se nos piden las siguientes tareas:\n",
    "\n",
    "\n",
    "1. Define los subcircuitos encargados de obtener las medidas de los estabilizadores $S_z^{(1)}$, $S_z^{(2)}$ y $S_z^{(3)}$.\n",
    "2. Define los subcircuitos encargados de obtener las medidas de los estabilizadores $S_x^{(1)}$, $S_x^{(2)}$ y $S_x^{(3)}$.\n",
    "3. Define una función que, dados los resultados de las medidas de los estabilizadores, te devuelva que corrección hay que hacer.\n",
    "4. En el caso de que ocurriesen dos errores del mismo tipo, $X$ por ejemplo, en dos qubits diferentes, ¿sería capaz de corregirlo el código de Steane?\n",
    "5. Suponiendo que la medida de, por ejemplo, el estabilizador $S_x^{(1)}$ fuese la última del circuito, ¿que ocurriría si apareciese un error $X$ en el qubit anzilla justo antes de la última puerta CNOT?¿Puede el código que hemos preparado en este ejercicio corregir errores que aparecen durante el proceso de corrección?"
   ]
  },
  {
   "cell_type": "markdown",
   "metadata": {},
   "source": [
    "### Define los subcircuitos encargados de obtener las medidas de los estabilizadores $S_z^{(1)}$, $S_z^{(2)}$ y $S_z^{(3)}$."
   ]
  },
  {
   "cell_type": "code",
   "execution_count": null,
   "metadata": {},
   "outputs": [],
   "source": []
  },
  {
   "cell_type": "markdown",
   "metadata": {},
   "source": [
    "### Define los subcircuitos encargados de obtener las medidas de los estabilizadores $S_x^{(1)}$, $S_x^{(2)}$ y $S_x^{(3)}$."
   ]
  },
  {
   "cell_type": "markdown",
   "metadata": {},
   "source": [
    "Ya sabemos como realizar medidas de estabilizadores como los $S_z^{(1)}$, pero medir estabilizadores como $S_x^{(1)}$ puede ser menos intuitivo. Esto se puede conseguir utilizando puertas Hadamard para rotar la base $Z$ en la base $X$. Teniendo esto en cuenta se puede llegar a que un estabilizador de este tipo se puede medir usando una combinación de la medida de los estabilizadores $Z$ anteriores y puertas Hadamard:"
   ]
  },
  {
   "cell_type": "code",
   "execution_count": 9,
   "metadata": {},
   "outputs": [
    {
     "data": {
      "image/png": "[encoded data removed]",
      "text/plain": [
       "<Figure size 334.55x243.81 with 1 Axes>"
      ]
     },
     "execution_count": 9,
     "metadata": {},
     "output_type": "execute_result"
    }
   ],
   "source": [
    "def Sx1_stabilizer(qc, code_qubits, anzilla_qubit):\n",
    "    qc.h([0,1,2,3])\n",
    "    qc.cx(code_qubits, [anzilla_qubit])\n",
    "    qc.h([0,1,2,3])\n",
    "\n",
    "cq = QuantumRegister(4, 'c')\n",
    "aq = QuantumRegister(1, 'a')\n",
    "qc = QuantumCircuit(cq, aq)\n",
    "    \n",
    "# Introducimos el estabilizador Sx1\n",
    "Sx1_stabilizer(qc, [cq[0],cq[1],cq[2],cq[3]], aq[0])\n",
    "qc.draw('mpl', scale=0.75)"
   ]
  },
  {
   "cell_type": "markdown",
   "metadata": {},
   "source": [
    "Se puede simplificar el proceso de medida de estos estabilizadores reduciendo el número de puertas involucradas. Para esto se puede tener en cuenta que el circuito:"
   ]
  },
  {
   "cell_type": "code",
   "execution_count": 10,
   "metadata": {},
   "outputs": [
    {
     "data": {
      "image/png": "[encoded data removed]",
      "text/plain": [
       "<Figure size 267.052x144.48 with 1 Axes>"
      ]
     },
     "execution_count": 10,
     "metadata": {},
     "output_type": "execute_result"
    }
   ],
   "source": [
    "qc = QuantumCircuit(2)\n",
    "qc.h([0,1])\n",
    "qc.cx(0, 1)\n",
    "qc.h([0,1])\n",
    "\n",
    "qc.draw('mpl')"
   ]
  },
  {
   "cell_type": "markdown",
   "metadata": {},
   "source": [
    "Es equivalente al siguiente circuito:"
   ]
  },
  {
   "cell_type": "code",
   "execution_count": 11,
   "metadata": {},
   "outputs": [
    {
     "data": {
      "image/png": "[encoded data removed]",
      "text/plain": [
       "<Figure size 146.652x144.48 with 1 Axes>"
      ]
     },
     "execution_count": 11,
     "metadata": {},
     "output_type": "execute_result"
    }
   ],
   "source": [
    "qc = QuantumCircuit(2)\n",
    "qc.cx(1, 0)\n",
    "qc.draw('mpl')"
   ]
  },
  {
   "cell_type": "markdown",
   "metadata": {},
   "source": [
    "Teniendo en cuenta esto, obtén un circuito simplificado para la medida de los estabilizadores $S_x^{(1)}$, $S_x^{(2)}$ y $S_x^{(3)}$."
   ]
  },
  {
   "cell_type": "code",
   "execution_count": null,
   "metadata": {},
   "outputs": [],
   "source": []
  },
  {
   "cell_type": "markdown",
   "metadata": {},
   "source": [
    "### Define una función que, dados los resultados de las medidas de los estabilizadores, te devuelva que corrección hay que hacer."
   ]
  },
  {
   "cell_type": "code",
   "execution_count": null,
   "metadata": {},
   "outputs": [],
   "source": []
  },
  {
   "cell_type": "markdown",
   "metadata": {},
   "source": [
    "### En el caso de que ocurriesen dos errores del mismo tipo, $X$ por ejemplo, en dos qubits diferentes, ¿sería capaz de corregirlo el código de Steane?"
   ]
  },
  {
   "cell_type": "code",
   "execution_count": null,
   "metadata": {},
   "outputs": [],
   "source": []
  },
  {
   "cell_type": "markdown",
   "metadata": {},
   "source": [
    "### Suponiendo que la medida de, por ejemplo, el estabilizador $S_x^{(3)}$ fuese la última del circuito, ¿que ocurriría si apareciese un error $X$ en el qubit anzilla justo antes de la penúltima puerta CNOT?¿Puede el código que hemos preparado en este ejercicio corregir errores que aparecen durante el proceso de corrección?"
   ]
  },
  {
   "cell_type": "markdown",
   "metadata": {},
   "source": [
    "Para este ejercicio es conveniente tener en cuenta las reglas de propagación de errores que hemos visto en la clase de teoría:\n",
    "<center>\n",
    "<img src=\"Error_propagation.png\">"
   ]
  },
  {
   "cell_type": "code",
   "execution_count": null,
   "metadata": {},
   "outputs": [],
   "source": []
  },
  {
   "cell_type": "markdown",
   "metadata": {
    "id": "8eCYYukCMtQm"
   },
   "source": [
    "## Donaciones\n",
    "<br>\n",
    "<center>\n",
    "Puedes donar una vez en el siguiente enlace (Ko-Fi):\n",
    "\n",
    "<br>\n",
    "    \n",
    "*Click en la imagen.*\n",
    "\n",
    "<a href=\"https://ko-fi.com/rcrdphysics\">\n",
    "<img src=\"https://habrastorage.org/webt/8r/ml/xf/8rmlxfpdzukegpxa62cxlfvgkqe.png\" width=20% />\n",
    "\n",
    "</center>"
   ]
  }
 ],
 "metadata": {
  "colab": {
   "collapsed_sections": [],
   "provenance": []
  },
  "kernelspec": {
   "display_name": "Python 3 (ipykernel)",
   "language": "python",
   "name": "python3"
  },
  "language_info": {
   "codemirror_mode": {
    "name": "ipython",
    "version": 3
   },
   "file_extension": ".py",
   "mimetype": "text/x-python",
   "name": "python",
   "nbconvert_exporter": "python",
   "pygments_lexer": "ipython3",
   "version": "3.9.12"
  },
  "vscode": {
   "interpreter": {
    "hash": "0ba87761b36fe477cd25f3ad90588396774cbdb0fc8a2968a6f36fa7bc47dde5"
   }
  }
 },
 "nbformat": 4,
 "nbformat_minor": 1
}
